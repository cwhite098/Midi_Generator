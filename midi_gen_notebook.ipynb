{
    "cells": [
        {
            "cell_type": "markdown",
            "source": [
                "https://towardsdatascience.com/how-to-generate-music-using-a-lstm-neural-network-in-keras-68786834d4c5\n",
                "\n",
                "Using this tutorial to learn how to import midi files and convert to tensors."
            ],
            "metadata": {}
        },
        {
            "cell_type": "code",
            "execution_count": 1,
            "source": [
                "import glob\n",
                "from music21 import converter, instrument, note, chord, stream\n",
                "import numpy as np\n",
                "from tqdm import tqdm\n",
                "import pickle"
            ],
            "outputs": [],
            "metadata": {}
        },
        {
            "cell_type": "code",
            "execution_count": 1,
            "source": [
                "\n",
                "notes = []\n",
                "durations = []\n",
                "\n",
                "file = 'Midi_files/archive/DOS.mid'\n",
                "for file in tqdm(glob.glob('Midi_files/Jazz_Midi/*.mid')):\n",
                "    midi = converter.parse(file)\n",
                "\n",
                "    parts = instrument.partitionByInstrument(midi)\n",
                "\n",
                "\n",
                "    if parts:\n",
                "        notes_to_parse = parts.parts[0].recurse()\n",
                "    else:\n",
                "        notes_to_parse = midi.flat.notes\n",
                "\n",
                "    for element in notes_to_parse:\n",
                "\n",
                "        if isinstance(element, note.Note):\n",
                "            notes.append(str(element.pitch))\n",
                "            durations.append(float(element.duration.quarterLength))\n",
                "\n",
                "        elif isinstance(element, chord.Chord):\n",
                "            notes.append(('.'.join(str(n) for n in element.normalOrder)))\n",
                "            durations.append(float(element.duration.quarterLength))\n",
                "\n",
                "\n",
                "    "
            ],
            "outputs": [
                {
                    "output_type": "stream",
                    "name": "stderr",
                    "text": [
                        "100%|██████████| 943/943 [1:49:39<00:00,  6.98s/it]\n"
                    ]
                }
            ],
            "metadata": {}
        },
        {
            "cell_type": "code",
            "execution_count": 2,
            "source": [
                "# save note and duration data (it takes ages to process)\n",
                "import pickle\n",
                "\n",
                "def save_list(list_to_save, file_name):\n",
                "    with open(file_name, 'wb') as fp:\n",
                "        pickle.dump(list_to_save, fp)\n",
                "\n",
                "def load_list(file_name):\n",
                "    with open(file_name, 'rb') as fp:\n",
                "        return pickle.load(fp)\n"
            ],
            "outputs": [],
            "metadata": {}
        },
        {
            "cell_type": "code",
            "execution_count": null,
            "source": [
                "save_list(notes, 'saved_lists/notes.txt')\n",
                "save_list(durations, 'saved_lists/durations.txt')"
            ],
            "outputs": [],
            "metadata": {}
        },
        {
            "cell_type": "code",
            "execution_count": 3,
            "source": [
                "# Import notes and durations \n",
                "\n",
                "notes = load_list('saved_lists/notes.txt')\n",
                "durations = load_list('saved_lists/durations.txt')"
            ],
            "outputs": [],
            "metadata": {}
        },
        {
            "cell_type": "code",
            "execution_count": 4,
            "source": [
                "# Create input sequences for the network\n",
                "sequence_length = 100\n",
                "step = 1\n",
                "\n",
                "# get all pitch names\n",
                "pitchnames = sorted(set(item for item in notes))\n",
                "dur_names = sorted(set(item for item in durations))\n",
                "\n",
                "print('Number of individual notes: ', len(pitchnames))\n",
                "print('Number of individual durations: ', len(dur_names))\n",
                "\n",
                "# Create dictionary to convert notes to ints and vice versa\n",
                "note_to_int = dict((note, number) for number, note in enumerate(pitchnames))\n",
                "int_to_note = dict((number, note) for number, note in enumerate(pitchnames))\n",
                "\n",
                "dur_to_int = dict((dur, number) for number, dur in enumerate(dur_names))\n",
                "int_to_dur = dict((number, dur) for number, dur in enumerate(dur_names))\n",
                "\n",
                "note_sentences = []\n",
                "next_notes = []\n",
                "dur_sentences = []\n",
                "next_dur = []\n",
                "\n",
                "\n",
                "#Create target and sentences window\n",
                "for i in range(0, len(notes) - sequence_length, step):\n",
                "    \n",
                "    note_sentences.append(notes[i: i+sequence_length])\n",
                "    next_notes.append(notes[i+sequence_length])\n",
                "\n",
                "    dur_sentences.append(durations[i: i+sequence_length])\n",
                "    next_dur.append(durations[i+sequence_length])\n",
                "\n",
                "note_sentences = np.array(note_sentences)\n",
                "next_notes = np.array(next_notes)\n",
                "\n",
                "dur_sentences = np.array(dur_sentences)\n",
                "next_dur = np.array(next_dur)\n",
                "\n",
                "# print('Sentence Window:')\n",
                "# print(sentences[:5])\n",
                "# print('Target charaters')\n",
                "# print (next_notes[:5])\n",
                "print('Number of note sequences:', len(note_sentences))\n",
                "print('Number of dur sequences:', len(dur_sentences))\n",
                "\n"
            ],
            "outputs": [
                {
                    "output_type": "stream",
                    "name": "stdout",
                    "text": [
                        "Number of individual notes:  787\n",
                        "Number of individual durations:  189\n",
                        "Number of note sequences: 498456\n",
                        "Number of dur sequences: 498456\n"
                    ]
                }
            ],
            "metadata": {}
        },
        {
            "cell_type": "code",
            "execution_count": 6,
            "source": [
                "# Transfer notes to index\n",
                "\n",
                "\n",
                "def get_data(sentences, next_notes, dict):\n",
                "    x = np.zeros((len(sentences),sequence_length))\n",
                "    y = np.zeros(len(sentences))\n",
                "\n",
                "    length = len(sentences)\n",
                "    index = 0\n",
                "\n",
                "    for i in range(length):\n",
                "        sentence = sentences[i]\n",
                "        for t, char in enumerate(sentence):\n",
                "            x[i, t] = dict[char]\n",
                "        \n",
                "        y[i] = dict[next_notes[i]]\n",
                "\n",
                "    return x, y\n",
                "\n",
                "note_train_x, note_train_y = get_data(note_sentences, next_notes, note_to_int)\n",
                "dur_train_x, dur_train_y = get_data(dur_sentences, next_dur, dur_to_int)\n",
                "\n",
                "print('Shape of training_x:', note_train_x.shape)\n",
                "print('Shape of training_y:', note_train_y.shape)\n",
                "\n",
                "print('Shape of training_x:', dur_train_x.shape)\n",
                "print('Shape of training_y:', dur_train_y.shape)"
            ],
            "outputs": [
                {
                    "output_type": "error",
                    "ename": "KeyboardInterrupt",
                    "evalue": "",
                    "traceback": [
                        "\u001b[0;31m---------------------------------------------------------------------------\u001b[0m",
                        "\u001b[0;31mKeyboardInterrupt\u001b[0m                         Traceback (most recent call last)",
                        "\u001b[0;32m/tmp/ipykernel_2923/2439462306.py\u001b[0m in \u001b[0;36m<module>\u001b[0;34m\u001b[0m\n\u001b[1;32m     18\u001b[0m     \u001b[0;32mreturn\u001b[0m \u001b[0mx\u001b[0m\u001b[0;34m,\u001b[0m \u001b[0my\u001b[0m\u001b[0;34m\u001b[0m\u001b[0;34m\u001b[0m\u001b[0m\n\u001b[1;32m     19\u001b[0m \u001b[0;34m\u001b[0m\u001b[0m\n\u001b[0;32m---> 20\u001b[0;31m \u001b[0mnote_train_x\u001b[0m\u001b[0;34m,\u001b[0m \u001b[0mnote_train_y\u001b[0m \u001b[0;34m=\u001b[0m \u001b[0mget_data\u001b[0m\u001b[0;34m(\u001b[0m\u001b[0mnote_sentences\u001b[0m\u001b[0;34m,\u001b[0m \u001b[0mnext_notes\u001b[0m\u001b[0;34m,\u001b[0m \u001b[0mnote_to_int\u001b[0m\u001b[0;34m)\u001b[0m\u001b[0;34m\u001b[0m\u001b[0;34m\u001b[0m\u001b[0m\n\u001b[0m\u001b[1;32m     21\u001b[0m \u001b[0mdur_train_x\u001b[0m\u001b[0;34m,\u001b[0m \u001b[0mdur_train_y\u001b[0m \u001b[0;34m=\u001b[0m \u001b[0mget_data\u001b[0m\u001b[0;34m(\u001b[0m\u001b[0mdur_sentences\u001b[0m\u001b[0;34m,\u001b[0m \u001b[0mnext_dur\u001b[0m\u001b[0;34m,\u001b[0m \u001b[0mdur_to_int\u001b[0m\u001b[0;34m)\u001b[0m\u001b[0;34m\u001b[0m\u001b[0;34m\u001b[0m\u001b[0m\n\u001b[1;32m     22\u001b[0m \u001b[0;34m\u001b[0m\u001b[0m\n",
                        "\u001b[0;32m/tmp/ipykernel_2923/2439462306.py\u001b[0m in \u001b[0;36mget_data\u001b[0;34m(sentences, next_notes, dict)\u001b[0m\n\u001b[1;32m     11\u001b[0m     \u001b[0;32mfor\u001b[0m \u001b[0mi\u001b[0m \u001b[0;32min\u001b[0m \u001b[0mrange\u001b[0m\u001b[0;34m(\u001b[0m\u001b[0mlength\u001b[0m\u001b[0;34m)\u001b[0m\u001b[0;34m:\u001b[0m\u001b[0;34m\u001b[0m\u001b[0;34m\u001b[0m\u001b[0m\n\u001b[1;32m     12\u001b[0m         \u001b[0msentence\u001b[0m \u001b[0;34m=\u001b[0m \u001b[0msentences\u001b[0m\u001b[0;34m[\u001b[0m\u001b[0mi\u001b[0m\u001b[0;34m]\u001b[0m\u001b[0;34m\u001b[0m\u001b[0;34m\u001b[0m\u001b[0m\n\u001b[0;32m---> 13\u001b[0;31m         \u001b[0;32mfor\u001b[0m \u001b[0mt\u001b[0m\u001b[0;34m,\u001b[0m \u001b[0mchar\u001b[0m \u001b[0;32min\u001b[0m \u001b[0menumerate\u001b[0m\u001b[0;34m(\u001b[0m\u001b[0msentence\u001b[0m\u001b[0;34m)\u001b[0m\u001b[0;34m:\u001b[0m\u001b[0;34m\u001b[0m\u001b[0;34m\u001b[0m\u001b[0m\n\u001b[0m\u001b[1;32m     14\u001b[0m             \u001b[0mx\u001b[0m\u001b[0;34m[\u001b[0m\u001b[0mi\u001b[0m\u001b[0;34m,\u001b[0m \u001b[0mt\u001b[0m\u001b[0;34m]\u001b[0m \u001b[0;34m=\u001b[0m \u001b[0mdict\u001b[0m\u001b[0;34m[\u001b[0m\u001b[0mchar\u001b[0m\u001b[0;34m]\u001b[0m\u001b[0;34m\u001b[0m\u001b[0;34m\u001b[0m\u001b[0m\n\u001b[1;32m     15\u001b[0m \u001b[0;34m\u001b[0m\u001b[0m\n",
                        "\u001b[0;31mKeyboardInterrupt\u001b[0m: "
                    ]
                }
            ],
            "metadata": {}
        },
        {
            "cell_type": "code",
            "execution_count": 14,
            "source": [
                "# Save training data\n",
                "save_list(note_train_x, 'saved_lists/note_train_x.txt')\n",
                "save_list(note_train_y, 'saved_lists/note_train_y.txt')\n",
                "\n",
                "save_list(dur_train_x, 'saved_lists/dur_train_x.txt')\n",
                "save_list(dur_train_y, 'saved_lists/dur_train_y.txt')"
            ],
            "outputs": [],
            "metadata": {}
        },
        {
            "cell_type": "code",
            "execution_count": 5,
            "source": [
                "# Load training data\n",
                "import pickle\n",
                "\n",
                "note_train_x = load_list('saved_lists/note_train_x.txt')\n",
                "note_train_y = load_list('saved_lists/note_train_y.txt')\n",
                "\n",
                "dur_train_x = load_list('saved_lists/dur_train_x.txt')\n",
                "dur_train_y = load_list('saved_lists/dur_train_y.txt')"
            ],
            "outputs": [],
            "metadata": {}
        },
        {
            "cell_type": "code",
            "execution_count": 6,
            "source": [
                "# Building the model\n",
                "\n",
                "import torch\n",
                "import torch.nn as nn\n",
                "import torch.nn.functional as F\n",
                "import torch.optim as optim\n",
                "from torch.autograd import Variable\n",
                "import matplotlib.pyplot as plt\n",
                "\n",
                "class Simple_LSTM(nn.Module):\n",
                "    def __init__(self, n_vocab, hidden_dim, embedding_dim, dropout=0.2):\n",
                "        super(Simple_LSTM, self).__init__()\n",
                "\n",
                "        self.hidden_dim = hidden_dim\n",
                "        self.embedding_dim = embedding_dim\n",
                "        self.lstm = nn.LSTM(embedding_dim, hidden_dim, dropout = dropout, num_layers=2)\n",
                "        self.embeddings = nn.Embedding(n_vocab, embedding_dim)\n",
                "        self.fc = nn.Linear(hidden_dim, n_vocab)\n",
                "    def forward(self, seq_in):\n",
                "        #input should be (Sequnce_length,batchsize,hidden_layer), so we need to transpose the input\n",
                "        embedded = self.embeddings(seq_in.t())\n",
                "        lstm_out, _ = self.lstm(embedded)\n",
                "\n",
                "        ht = lstm_out[-1]\n",
                "        out = self.fc(ht)\n",
                "        return out"
            ],
            "outputs": [],
            "metadata": {}
        },
        {
            "cell_type": "code",
            "execution_count": 7,
            "source": [
                "# Create DataLoader for mini-batch training\n",
                "device = 'cuda' if torch.cuda.is_available() else 'cpu'\n",
                "\n",
                "print(device)\n",
                "\n",
                "note_x_train_tensor = torch.tensor(note_train_x, dtype=torch.long).to(device)\n",
                "note_y_train_tensor = torch.tensor(note_train_y, dtype=torch.long).to(device)\n",
                "\n",
                "dur_x_train_tensor = torch.tensor(dur_train_x, dtype=torch.long).to(device)\n",
                "dur_y_train_tensor = torch.tensor(dur_train_y, dtype=torch.long).to(device)\n",
                "\n",
                "from torch.utils.data import Dataset, DataLoader\n",
                "note_train = torch.utils.data.TensorDataset(note_x_train_tensor, note_y_train_tensor)\n",
                "note_train_loader = torch.utils.data.DataLoader(note_train, batch_size = 128)\n",
                "\n",
                "dur_train = torch.utils.data.TensorDataset(dur_x_train_tensor, dur_y_train_tensor)\n",
                "dur_train_loader = torch.utils.data.DataLoader(dur_train, batch_size = 128)"
            ],
            "outputs": [
                {
                    "output_type": "stream",
                    "name": "stdout",
                    "text": [
                        "cuda\n"
                    ]
                }
            ],
            "metadata": {}
        },
        {
            "cell_type": "code",
            "execution_count": 8,
            "source": [
                "#Training the network\n",
                "def train_net(n_epoch, loss_fn, optimizer, model, train_loader, device):\n",
                "\n",
                "    losses = []\n",
                "    eval_losses = []\n",
                "    running_loss = 0\n",
                "    eval_running_loss = 0\n",
                "\n",
                "    #loop through n_epoch times\n",
                "    for epoch in range(n_epoch):\n",
                "\n",
                "        for i, data in enumerate(train_loader, 0):\n",
                "\n",
                "            inputs, labels = data[0].to(device), data[1].to(device)\n",
                "\n",
                "            # Set model to train mode\n",
                "            model.train()\n",
                "            #Make predictions\n",
                "            pred = model(inputs)\n",
                "            \n",
                "            # Compute loss\n",
                "            loss = loss_fn(pred, labels)\n",
                "            # Compute gradients\n",
                "            loss.backward()\n",
                "            # Update params and zero grads\n",
                "            optimizer.step()\n",
                "            optimizer.zero_grad()\n",
                "            \n",
                "            # print statistics\n",
                "            running_loss += loss.item()\n",
                "            if i % len(train_loader) == len(train_loader)-1:    # print every len(train_loader) mini-batches\n",
                "                print('[%d, %5d] loss: %.5f' %(epoch + 1, i + 1, running_loss / len(train_loader)))\n",
                "                losses.append(running_loss/len(train_loader)) \n",
                "                running_loss = 0.0\n",
                "        if epoch%10 == 0:\n",
                "            torch.save({\n",
                "                'epoch': epoch,\n",
                "                'model_state_dict': model.state_dict(),\n",
                "                'optimizer_state_dict': optimizer.state_dict(),\n",
                "                'loss': losses[epoch-1],\n",
                "                }, 'model_checkpoint.pth')\n",
                "\n",
                "    plt.subplot(1,2,1)\n",
                "    plt.plot(losses, label='Training loss')\n",
                "\n",
                "    print('Finished Training')\n",
                "    \n",
                "    torch.save(model.state_dict(), PATH)\n",
                "\n",
                "    print('Saved the Model!')"
            ],
            "outputs": [],
            "metadata": {}
        },
        {
            "cell_type": "code",
            "execution_count": 12,
            "source": [
                "# Training\n",
                "print(device)\n",
                "\n",
                "# note_model = Simple_LSTM(len(pitchnames), 256, 256).to(device)\n",
                "# note_optimizer = torch.optim.Adam(note_model.parameters(), lr = 0.002)\n",
                "loss_fn = torch.nn.CrossEntropyLoss()\n",
                "\n",
                "# n_epochs = 75\n",
                "# PATH = 'jazz_midi_notes.pth'\n",
                "# train_net(n_epochs, loss_fn, note_optimizer, note_model, note_train_loader, device)\n",
                "\n",
                "n_epochs = 75\n",
                "PATH = 'jazz_midi_dur.pth'\n",
                "dur_model = Simple_LSTM(len(dur_names), 256, 256).to(device)\n",
                "dur_optimizer = torch.optim.Adam(dur_model.parameters(), lr = 0.002)\n",
                "train_net(n_epochs, loss_fn, dur_optimizer, dur_model, dur_train_loader, device)\n",
                "\n",
                "\n",
                "#model.load_state_dict(torch.load(PATH))"
            ],
            "outputs": [
                {
                    "output_type": "stream",
                    "name": "stdout",
                    "text": [
                        "cuda\n",
                        "[1,  3895] loss: 1.37399\n",
                        "[2,  3895] loss: 1.25310\n",
                        "[3,  3895] loss: 1.22051\n",
                        "[4,  3895] loss: 1.20381\n",
                        "[5,  3895] loss: 1.19139\n",
                        "[6,  3895] loss: 1.17380\n",
                        "[7,  3895] loss: 1.16399\n",
                        "[8,  3895] loss: 1.15241\n",
                        "[9,  3895] loss: 1.14474\n",
                        "[10,  3895] loss: 1.13574\n",
                        "[11,  3895] loss: 1.12687\n",
                        "[12,  3895] loss: 1.11812\n",
                        "[13,  3895] loss: 1.10909\n",
                        "[14,  3895] loss: 1.10075\n",
                        "[15,  3895] loss: 1.09173\n",
                        "[16,  3895] loss: 1.08522\n",
                        "[17,  3895] loss: 1.07756\n",
                        "[18,  3895] loss: 1.07004\n",
                        "[19,  3895] loss: 1.06336\n",
                        "[20,  3895] loss: 1.05457\n",
                        "[21,  3895] loss: 1.04541\n",
                        "[22,  3895] loss: 1.04127\n",
                        "[23,  3895] loss: 1.03372\n",
                        "[24,  3895] loss: 1.02945\n",
                        "[25,  3895] loss: 1.02023\n",
                        "[26,  3895] loss: 1.01289\n",
                        "[27,  3895] loss: 1.00676\n",
                        "[28,  3895] loss: 1.00078\n",
                        "[29,  3895] loss: 0.99437\n",
                        "[30,  3895] loss: 0.98863\n",
                        "[31,  3895] loss: 0.98429\n",
                        "[32,  3895] loss: 0.97858\n",
                        "[33,  3895] loss: 0.97201\n",
                        "[34,  3895] loss: 0.96985\n",
                        "[35,  3895] loss: 0.96306\n",
                        "[36,  3895] loss: 0.95867\n",
                        "[37,  3895] loss: 0.95332\n",
                        "[38,  3895] loss: 0.94789\n",
                        "[39,  3895] loss: 0.94252\n",
                        "[40,  3895] loss: 0.94020\n",
                        "[41,  3895] loss: 0.93612\n",
                        "[42,  3895] loss: 0.93021\n",
                        "[43,  3895] loss: 0.92848\n",
                        "[44,  3895] loss: 0.92236\n",
                        "[45,  3895] loss: 0.91859\n",
                        "[46,  3895] loss: 0.91375\n",
                        "[47,  3895] loss: 0.91272\n",
                        "[48,  3895] loss: 0.90919\n",
                        "[49,  3895] loss: 0.90693\n",
                        "[50,  3895] loss: 0.90511\n",
                        "[51,  3895] loss: 0.90118\n",
                        "[52,  3895] loss: 0.89931\n",
                        "[53,  3895] loss: 0.89785\n",
                        "[54,  3895] loss: 0.89619\n",
                        "[55,  3895] loss: 0.89289\n",
                        "[56,  3895] loss: 0.88917\n",
                        "[57,  3895] loss: 0.88682\n",
                        "[58,  3895] loss: 0.88542\n",
                        "[59,  3895] loss: 0.88406\n",
                        "[60,  3895] loss: 0.88312\n",
                        "[61,  3895] loss: 0.88135\n",
                        "[62,  3895] loss: 0.87817\n",
                        "[63,  3895] loss: 0.87788\n",
                        "[64,  3895] loss: 0.87701\n",
                        "[65,  3895] loss: 0.87679\n",
                        "[66,  3895] loss: 0.87237\n",
                        "[67,  3895] loss: 0.86834\n",
                        "[68,  3895] loss: 0.87024\n",
                        "[69,  3895] loss: 0.87363\n",
                        "[70,  3895] loss: 0.87161\n",
                        "[71,  3895] loss: 0.86557\n",
                        "[72,  3895] loss: 0.87020\n",
                        "[73,  3895] loss: 0.86503\n",
                        "[74,  3895] loss: 0.86418\n",
                        "[75,  3895] loss: 0.86592\n",
                        "Finished Training\n",
                        "Saved the Model!\n"
                    ]
                },
                {
                    "output_type": "display_data",
                    "data": {
                        "text/plain": [
                            "<Figure size 432x288 with 1 Axes>"
                        ],
                        "image/png": "[encoded data removed]"
                    },
                    "metadata": {
                        "image/png": {
                            "width": 189,
                            "height": 248
                        },
                        "needs_background": "light"
                    }
                }
            ],
            "metadata": {}
        },
        {
            "cell_type": "code",
            "execution_count": 13,
            "source": [
                "# Function to choose next char for generated lyrics\n",
                "# We want some randomness so that the same char is not always picked\n",
                "\n",
                "def sample(preds, temperature):\n",
                "    \n",
                "    preds = np.asarray(preds).astype('float64')\n",
                "    \n",
                "    # Adds a lil bit of randomness\n",
                "    preds = np.log(preds) / temperature\n",
                "    exp_preds = np.exp(preds)\n",
                "    preds = exp_preds / np.sum(exp_preds)\n",
                "\n",
                "    probas = np.random.multinomial(1, preds, 1)\n",
                "\n",
                "    return np.argmax(probas)"
            ],
            "outputs": [],
            "metadata": {}
        },
        {
            "cell_type": "code",
            "execution_count": 29,
            "source": [
                "start = note_train_x[np.random.randint(0,sequence_length)]"
            ],
            "outputs": [],
            "metadata": {}
        },
        {
            "cell_type": "code",
            "execution_count": 15,
            "source": [
                "# Generate some notes\n",
                "\n",
                "variance = 0.5\n",
                "\n",
                "def generate_seq(path, start, variance, model):\n",
                "\n",
                "    generated = []\n",
                "    original = start\n",
                "    window = start\n",
                "    model.load_state_dict(torch.load(path))\n",
                "\n",
                "    for i in tqdm(range(200)):\n",
                "\n",
                "        x = np.zeros((1, sequence_length))\n",
                "        \n",
                "        for t, note_ in enumerate(window):\n",
                "            #change input to vec of ints\n",
                "            # loop through current window and encode it to the vector x\n",
                "            x[0, t] = note_\n",
                "\n",
                "        # send x to the gpu to be fed into net\n",
                "        x_in = Variable(torch.LongTensor(x).to(device))\n",
                "        pred = model(x_in)\n",
                "        \n",
                "        # retrieve data from gpu and apply softmax\n",
                "        pred = np.array(F.softmax(pred, dim=1).data[0].cpu())\n",
                "        \n",
                "        #sample func adds a little but of randomness and returns the next char as int\n",
                "        next_index = sample(pred, variance)\n",
                "\n",
                "        #add new char to generated lyrics\n",
                "        generated.append(next_index)\n",
                "        \n",
                "        #shift window along to include new char and leave first char\n",
                "        window = np.append(window, next_index)\n",
                "        window = window[1:]\n",
                "\n",
                "    print(original)\n",
                "    print(generated)\n",
                "\n",
                "    return generated\n",
                "\n",
                "    "
            ],
            "outputs": [],
            "metadata": {}
        },
        {
            "cell_type": "code",
            "execution_count": 29,
            "source": [
                "\n",
                "# Create notes and chords from output of net\n",
                "\n",
                "note_model = Simple_LSTM(len(pitchnames), 256, 256).to(device)\n",
                "gen_notes = generate_seq('jazz_midi_notes.pth', note_train_x[np.random.randint(0,sequence_length)], 0.2, note_model)\n",
                "\n",
                "dur_model = Simple_LSTM(len(dur_names), 256, 256).to(device)\n",
                "gen_dur = generate_seq('jazz_midi_dur.pth', dur_train_x[np.random.randint(0,sequence_length)], 0.9, dur_model)\n",
                "\n",
                "def get_midi(notes_generated, dur_generated, midi_name):\n",
                "\n",
                "    offset = 0\n",
                "    output_notes = []\n",
                "\n",
                "    for i in range(len(notes_generated)):\n",
                "\n",
                "        note_to_encode = int_to_note[notes_generated[i]]\n",
                "\n",
                "        duration = int_to_dur[dur_generated[i]]\n",
                "\n",
                "        # if chord\n",
                "        if('.' in note_to_encode) or note_to_encode.isdigit():\n",
                "\n",
                "            notes_in_chord = note_to_encode.split('.')\n",
                "            notes = []\n",
                "\n",
                "            for current_note in notes_in_chord:\n",
                "                new_note = note.Note(int(current_note))\n",
                "                new_note.storedInstrument = instrument.Piano()\n",
                "                notes.append(new_note)\n",
                "\n",
                "            new_chord = chord.Chord(notes)\n",
                "            new_chord.offset = offset\n",
                "            new_chord.quarterLength = duration\n",
                "            output_notes.append(new_chord)\n",
                "\n",
                "        # if note\n",
                "        else:\n",
                "            new_note = note.Note(note_to_encode)\n",
                "            new_note.offset = offset\n",
                "            new_note.storedInstrument = instrument.Piano()\n",
                "            new_note.quarterLength = duration\n",
                "            output_notes.append(new_note)\n",
                "\n",
                "        offset += 0.5 # so notes dont stack\n",
                "\n",
                "    midi_stream = stream.Stream(output_notes)\n",
                "    midi_stream.write('midi', fp=midi_name)\n",
                "\n",
                "get_midi(gen_notes, gen_dur, 'jazz_midi.mid')\n"
            ],
            "outputs": [
                {
                    "output_type": "stream",
                    "name": "stderr",
                    "text": [
                        " 11%|█         | 11/100 [00:00<00:00, 101.50it/s]/tmp/ipykernel_2972/2180127388.py:9: RuntimeWarning: divide by zero encountered in log\n",
                        "  preds = np.log(preds) / temperature\n",
                        "100%|██████████| 100/100 [00:00<00:00, 102.71it/s]\n"
                    ]
                },
                {
                    "output_type": "stream",
                    "name": "stdout",
                    "text": [
                        "[755. 361. 745. 743. 529. 599. 745. 529. 745. 513. 745. 410. 743. 699.\n",
                        " 744. 773. 729. 519. 217. 743. 783. 700. 745. 482. 745. 700. 659. 686.\n",
                        " 685. 783. 743. 745. 685. 412. 745. 743. 699. 699. 744. 700. 745. 745.\n",
                        " 720. 639. 745. 416. 710. 398. 745. 416. 684. 701. 639. 686. 380. 745.\n",
                        " 639. 745. 743. 410. 699. 700. 710. 410. 700. 255. 236. 710. 410. 700.\n",
                        " 699. 410. 729. 231. 755. 361. 700. 699. 361. 753. 783. 231. 745. 540.\n",
                        " 755. 361. 745. 412. 743. 772. 684. 699. 684. 684. 699. 709. 744. 743.\n",
                        " 609. 351.]\n",
                        "[699, 700, 720, 700, 744, 684, 684, 684, 684, 684, 684, 684, 700, 744, 684, 700, 744, 684, 684, 684, 700, 700, 684, 684, 744, 744, 684, 684, 684, 684, 684, 684, 684, 684, 684, 684, 684, 684, 684, 684, 684, 684, 684, 684, 684, 684, 684, 684, 684, 684, 684, 684, 684, 684, 699, 684, 684, 684, 684, 585, 684, 684, 684, 684, 684, 684, 684, 684, 684, 684, 684, 700, 710, 729, 710, 700, 729, 729, 729, 710, 700, 700, 729, 745, 729, 700, 700, 729, 729, 700, 729, 700, 729, 745, 700, 700, 729, 700, 700, 729]\n"
                    ]
                },
                {
                    "output_type": "stream",
                    "name": "stderr",
                    "text": [
                        "100%|██████████| 100/100 [00:00<00:00, 115.16it/s]"
                    ]
                },
                {
                    "output_type": "stream",
                    "name": "stdout",
                    "text": [
                        "[ 4.  2.  4.  6.  4. 14.  6.  3.  4.  2.  4.  2.  2.  2.  4.  2.  8.  6.\n",
                        "  3.  2.  2.  4.  6.  2.  2.  4.  8.  2.  4.  6.  2.  2.  4.  6.  2. 14.\n",
                        "  4.  4.  4.  2.  4.  2.  4.  2.  4.  2.  2.  4.  4.  2.  4.  2.  2.  6.\n",
                        "  4.  2.  4.  4.  4.  2.  2.  4.  6.  2.  8.  6.  1.  6.  6.  6.  6.  6.\n",
                        "  6.  5.  7.  7.  6.  3.  2. 11.  1.  4.  6.  4.  2.  4.  8.  2.  4.  6.\n",
                        "  4.  6.  4.  2.  2.  3.  3. 36.  6. 24.]\n",
                        "[3, 36, 3, 3, 3, 36, 3, 3, 3, 9, 36, 3, 3, 3, 3, 3, 27, 8, 3, 36, 3, 3, 36, 3, 3, 3, 2, 3, 2, 1, 1, 3, 36, 3, 3, 3, 3, 18, 36, 3, 3, 3, 3, 18, 1, 3, 12, 3, 3, 27, 12, 3, 3, 27, 9, 3, 3, 3, 3, 3, 33, 36, 3, 3, 3, 9, 3, 9, 3, 3, 3, 27, 3, 3, 27, 36, 3, 3, 3, 3, 9, 36, 3, 3, 18, 3, 3, 3, 3, 3, 3, 18, 3, 6, 3, 3, 3, 15, 3, 3]\n"
                    ]
                },
                {
                    "output_type": "stream",
                    "name": "stderr",
                    "text": [
                        "\n"
                    ]
                }
            ],
            "metadata": {}
        }
    ],
    "metadata": {
        "orig_nbformat": 4,
        "language_info": {
            "name": "python",
            "version": "3.8.10",
            "mimetype": "text/x-python",
            "codemirror_mode": {
                "name": "ipython",
                "version": 3
            },
            "pygments_lexer": "ipython3",
            "nbconvert_exporter": "python",
            "file_extension": ".py"
        },
        "kernelspec": {
            "name": "python3",
            "display_name": "Python 3.8.10 64-bit ('MLvenv': venv)"
        },
        "interpreter": {
            "hash": "3c5deedbfea70084e63f288ba49a2f9456761c977349528e54a40dbdea00cf01"
        }
    },
    "nbformat": 4,
    "nbformat_minor": 2
}